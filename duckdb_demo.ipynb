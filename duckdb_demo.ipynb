{
 "cells": [
  {
   "cell_type": "code",
   "execution_count": 5,
   "id": "96c0afbc-9fee-4a41-9fd6-0b44f725d703",
   "metadata": {},
   "outputs": [],
   "source": [
    "import duckdb\n",
    "import pandas as pd"
   ]
  },
  {
   "cell_type": "code",
   "execution_count": 3,
   "id": "20149bbc-64a2-40c2-84ae-125d4a3067e0",
   "metadata": {},
   "outputs": [],
   "source": [
    "# Import CSVs -- the larger CSV has encoding issues, so load via Pandas instead of duckdb.  We can query it in any case!\n",
    "smol_data = duckdb.read_csv('./van_ct.csv')\n",
    "big_data = pd.read_csv('./bc_ct.csv',encoding='iso8859_15')"
   ]
  },
  {
   "cell_type": "code",
   "execution_count": 19,
   "id": "f89c5751",
   "metadata": {},
   "outputs": [],
   "source": [
    "# Rename columns with unsuitable characters in their column names\n",
    "big_data[\"C2_COUNT_MEN\"] = big_data[\"C2_COUNT_MEN+\"]\n",
    "big_data[\"C3_COUNT_WOMEN\"] = big_data[\"C3_COUNT_WOMEN+\"]"
   ]
  },
  {
   "cell_type": "code",
   "execution_count": 21,
   "id": "a528edf6",
   "metadata": {},
   "outputs": [],
   "source": [
    "# Filter to columns and rows of interest\n",
    "big_data_narrow = duckdb.sql(\"SELECT DGUID, ALT_GEO_CODE, CHARACTERISTIC_ID, CHARACTERISTIC_NAME, C1_COUNT_TOTAL, C2_COUNT_MEN, C3_COUNT_WOMEN FROM big_data\")\n",
    "big_data_vancouver = duckdb.sql(\"SELECT * FROM big_data_filtered WHERE ALT_GEO_CODE >= 9330000 AND ALT_GEO_CODE < 9340000\") # Vancouver DGUIDs start with 933XXXX\n",
    "big_data_commutes = duckdb.sql(\"SELECT * FROM big_data_vancouver WHERE CHARACTERISTIC_ID BETWEEN 2603 and 2610\") # Commute share charcteristics"
   ]
  },
  {
   "cell_type": "code",
   "execution_count": 45,
   "id": "b72fe7e2",
   "metadata": {},
   "outputs": [],
   "source": [
    "# Do some pivots to get characteristics of interest into a \"wide\" format\n",
    "total_pivot = duckdb.sql(\"PIVOT big_data_commutes ON CHARACTERISTIC_ID USING SUM(C1_COUNT_TOTAL) GROUP BY DGUID\")\n",
    "men_pivot = duckdb.sql(\"PIVOT big_data_commutes ON CHARACTERISTIC_ID USING SUM(C2_COUNT_MEN) GROUP BY DGUID\")\n",
    "women_pivot = duckdb.sql(\"PIVOT big_data_commutes ON CHARACTERISTIC_ID USING SUM(C3_COUNT_WOMEN) GROUP BY DGUID\")"
   ]
  },
  {
   "cell_type": "code",
   "execution_count": 58,
   "id": "397e1379",
   "metadata": {},
   "outputs": [],
   "source": [
    "\"\"\"\n",
    "Characteristics of Interest\n",
    "2603\tTotal - Main mode of commuting for the employed labour force aged 15 years and over with a usual place of work or no fixed workplace address - 25% sample data (200)\n",
    "2604\t  Car, truck or van\n",
    "2605\t    Car, truck or van - as a driver\n",
    "2606\t    Car, truck or van - as a passenger\n",
    "2607\t  Public transit\n",
    "2608\t  Walked\n",
    "2609\t  Bicycle\n",
    "2610\t  Other method\n",
    "\"\"\"\n",
    "# too lazy to write out the same renaming query 3 times\n",
    "renamed = {}\n",
    "for segment in ['total','men','women']:\n",
    "    renamed[segment] = duckdb.sql(f'select DGUID, \\\n",
    "               \"2603\" as {segment}_total, \\\n",
    "               \"2604\" as {segment}_car, \"2605\" as {segment}_car_driver, \"2606\" as {segment}_car_passenger,\\\n",
    "               \"2607\" as {segment}_public_transit,\\\n",
    "               \"2608\" as {segment}_walk, \"2609\" as {segment}_bike, \"2610\" as {segment}_other from {segment}_pivot')"
   ]
  },
  {
   "cell_type": "code",
   "execution_count": 66,
   "id": "0e4ff050",
   "metadata": {},
   "outputs": [],
   "source": [
    "# Can't refer to dict members in duckdb.sql, so put each member of the dict back into a separate relation\n",
    "total = renamed['total']\n",
    "men = renamed['men']\n",
    "women = renamed['women']"
   ]
  },
  {
   "cell_type": "code",
   "execution_count": 65,
   "id": "cf998041",
   "metadata": {},
   "outputs": [],
   "source": [
    "# Mash together all three tables into one big table\n",
    "main_table = duckdb.sql(\"select * from total inner join men using (DGUID) inner join women using (DGUID)\")"
   ]
  },
  {
   "cell_type": "code",
   "execution_count": 68,
   "id": "cce3a177",
   "metadata": {},
   "outputs": [],
   "source": [
    "# Compute mode shares from the big table\n",
    "bike_shares = duckdb.sql(\"select total_bike/total_total as overall_bike_share, men_bike/men_total as men_bike_share, women_bike/women_total as women_bike_share from main_table\")"
   ]
  },
  {
   "cell_type": "code",
   "execution_count": 69,
   "id": "f8be68d9",
   "metadata": {},
   "outputs": [],
   "source": [
    "# The filtered data is only a few thousand rows, easy enough to work with in Excel. Export a CSV if desired.\n",
    "main_table.to_csv('./output.csv')"
   ]
  }
 ],
 "metadata": {
  "kernelspec": {
   "display_name": "Python 3 (ipykernel)",
   "language": "python",
   "name": "python3"
  },
  "language_info": {
   "codemirror_mode": {
    "name": "ipython",
    "version": 3
   },
   "file_extension": ".py",
   "mimetype": "text/x-python",
   "name": "python",
   "nbconvert_exporter": "python",
   "pygments_lexer": "ipython3",
   "version": "3.10.13"
  }
 },
 "nbformat": 4,
 "nbformat_minor": 5
}
